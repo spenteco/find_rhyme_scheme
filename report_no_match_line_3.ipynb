{
 "cells": [
  {
   "cell_type": "code",
   "execution_count": 18,
   "metadata": {},
   "outputs": [
    {
     "name": "stdout",
     "output_type": "stream",
     "text": [
      "ok\n"
     ]
    }
   ],
   "source": [
    "import subprocess, re\n",
    "\n",
    "all_line_3_errors = []\n",
    "\n",
    "for line in subprocess.getoutput('grep \\'###\\' OUT.txt | grep \\'no match\\' | grep \\' 2 \\'').split('\\n'):\n",
    "    \n",
    "    line_1 = re.sub('.+ no match ', '', line.strip())\n",
    "    line_2 = re.split(' ', line_1)\n",
    "    \n",
    "    line_3 = []\n",
    "    for p in line_2:\n",
    "        if p.isupper():\n",
    "            if line_3[-1].isupper():\n",
    "                line_3[-1] += (' ' + p)\n",
    "            else:\n",
    "                line_3.append(p)\n",
    "        else:\n",
    "            line_3.append(p)\n",
    "    \n",
    "    all_line_3_errors.append(line_3)\n",
    "    \n",
    "fields = ['reg', 'orig', 'phones', 'reg', 'orig', 'phones']\n",
    "\n",
    "import csv\n",
    "\n",
    "f = open('all_line_3_errors.csv', 'w', encoding='utf-8')\n",
    "w = csv.writer(f)\n",
    "w.writerow(fields)\n",
    "w.writerows(all_line_3_errors)\n",
    "f.close()\n",
    "\n",
    "print('ok')"
   ]
  },
  {
   "cell_type": "code",
   "execution_count": null,
   "metadata": {},
   "outputs": [],
   "source": []
  }
 ],
 "metadata": {
  "kernelspec": {
   "display_name": "Python 3",
   "language": "python",
   "name": "python3"
  },
  "language_info": {
   "codemirror_mode": {
    "name": "ipython",
    "version": 3
   },
   "file_extension": ".py",
   "mimetype": "text/x-python",
   "name": "python",
   "nbconvert_exporter": "python",
   "pygments_lexer": "ipython3",
   "version": "3.7.2"
  }
 },
 "nbformat": 4,
 "nbformat_minor": 4
}
